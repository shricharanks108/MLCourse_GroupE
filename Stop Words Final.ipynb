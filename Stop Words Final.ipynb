{
 "cells": [
  {
   "cell_type": "code",
   "execution_count": 18,
   "metadata": {},
   "outputs": [],
   "source": [
    "from sklearn.feature_extraction.text import CountVectorizer"
   ]
  },
  {
   "cell_type": "code",
   "execution_count": 19,
   "metadata": {},
   "outputs": [],
   "source": [
    "import pandas as pd"
   ]
  },
  {
   "cell_type": "code",
   "execution_count": 20,
   "metadata": {},
   "outputs": [],
   "source": [
    "# Read in the training and test datasets from previously created csv files\n",
    "imdb_train = pd.read_csv('csv/imdb_train.csv')"
   ]
  },
  {
   "cell_type": "code",
   "execution_count": 21,
   "metadata": {},
   "outputs": [],
   "source": [
    "corpus = imdb_train['text'].values"
   ]
  },
  {
   "cell_type": "code",
   "execution_count": 22,
   "metadata": {},
   "outputs": [],
   "source": [
    "vectorizer = CountVectorizer()            # unigram"
   ]
  },
  {
   "cell_type": "code",
   "execution_count": 23,
   "metadata": {},
   "outputs": [],
   "source": [
    "X = vectorizer.fit_transform(corpus)"
   ]
  },
  {
   "cell_type": "code",
   "execution_count": 24,
   "metadata": {},
   "outputs": [
    {
     "name": "stdout",
     "output_type": "stream",
     "text": [
      "['00', '000', '0000000000001', '00001', '00015']\n"
     ]
    }
   ],
   "source": [
    "print(vectorizer.get_feature_names()[0:5])"
   ]
  },
  {
   "cell_type": "code",
   "execution_count": 25,
   "metadata": {},
   "outputs": [
    {
     "name": "stdout",
     "output_type": "stream",
     "text": [
      "[[0 0 0 ... 0 0 0]\n",
      " [0 0 0 ... 0 0 0]\n",
      " [0 0 0 ... 0 0 0]\n",
      " [0 0 0 ... 0 0 0]\n",
      " [0 0 0 ... 0 0 0]]\n"
     ]
    }
   ],
   "source": [
    "print(X.toarray())  "
   ]
  },
  {
   "cell_type": "code",
   "execution_count": 26,
   "metadata": {},
   "outputs": [],
   "source": [
    "vectorizer2 = CountVectorizer(analyzer='word', ngram_range=(2, 2))   # bigram"
   ]
  },
  {
   "cell_type": "code",
   "execution_count": 27,
   "metadata": {},
   "outputs": [],
   "source": [
    "X2 = vectorizer2.fit_transform(corpus)"
   ]
  },
  {
   "cell_type": "code",
   "execution_count": 28,
   "metadata": {},
   "outputs": [
    {
     "name": "stdout",
     "output_type": "stream",
     "text": [
      "['00 01', '00 after', '00 alison', '00 am', '00 and']\n"
     ]
    }
   ],
   "source": [
    "print(vectorizer2.get_feature_names()[0:5])"
   ]
  },
  {
   "cell_type": "code",
   "execution_count": 55,
   "metadata": {
    "scrolled": true
   },
   "outputs": [
    {
     "name": "stdout",
     "output_type": "stream",
     "text": [
      "  (0, 1265949)\t1\n",
      "  (0, 660809)\t1\n",
      "  (0, 1387407)\t1\n",
      "  (0, 1365804)\t1\n",
      "  (0, 423187)\t1\n",
      "  (0, 1389964)\t1\n",
      "  (0, 1160277)\t1\n",
      "  (0, 1306476)\t1\n",
      "  (0, 372687)\t1\n",
      "  (0, 976827)\t1\n",
      "  (0, 859428)\t1\n",
      "  (0, 1289564)\t1\n",
      "  (0, 1125437)\t1\n",
      "  (0, 372688)\t1\n",
      "  (0, 1225754)\t2\n",
      "  (0, 1369336)\t1\n",
      "  (0, 1421414)\t1\n",
      "  (0, 1108765)\t1\n",
      "  (0, 624183)\t2\n",
      "  (0, 666246)\t2\n",
      "  (0, 924463)\t1\n",
      "  (0, 1042894)\t1\n",
      "  (0, 604217)\t1\n",
      "  (0, 666058)\t1\n",
      "  (0, 843661)\t1\n",
      "  :\t:\n",
      "  (24999, 66189)\t1\n",
      "  (24999, 665758)\t1\n",
      "  (24999, 502502)\t1\n",
      "  (24999, 1335804)\t1\n",
      "  (24999, 1411883)\t1\n",
      "  (24999, 454897)\t1\n",
      "  (24999, 897174)\t1\n",
      "  (24999, 880611)\t1\n",
      "  (24999, 1239408)\t1\n",
      "  (24999, 168237)\t1\n",
      "  (24999, 1152652)\t1\n",
      "  (24999, 498110)\t1\n",
      "  (24999, 1090390)\t1\n",
      "  (24999, 30904)\t1\n",
      "  (24999, 108310)\t1\n",
      "  (24999, 249499)\t1\n",
      "  (24999, 366734)\t1\n",
      "  (24999, 888806)\t1\n",
      "  (24999, 219273)\t1\n",
      "  (24999, 745995)\t1\n",
      "  (24999, 503432)\t1\n",
      "  (24999, 763726)\t1\n",
      "  (24999, 399503)\t1\n",
      "  (24999, 1041620)\t1\n",
      "  (24999, 1352438)\t1\n"
     ]
    }
   ],
   "source": [
    "print(X2)"
   ]
  },
  {
   "cell_type": "code",
   "execution_count": 36,
   "metadata": {},
   "outputs": [],
   "source": [
    "vectorizer3 = CountVectorizer(analyzer='word', ngram_range=(3, 3))    # trigram"
   ]
  },
  {
   "cell_type": "code",
   "execution_count": 31,
   "metadata": {},
   "outputs": [],
   "source": [
    "X3 = vectorizer3.fit_transform(corpus)"
   ]
  },
  {
   "cell_type": "code",
   "execution_count": 32,
   "metadata": {},
   "outputs": [
    {
     "name": "stdout",
     "output_type": "stream",
     "text": [
      "['00 01 percent', '00 after cohn', '00 alison agrees', '00 am and', '00 am once']\n"
     ]
    }
   ],
   "source": [
    "print(vectorizer3.get_feature_names()[0:5])"
   ]
  },
  {
   "cell_type": "code",
   "execution_count": 56,
   "metadata": {},
   "outputs": [
    {
     "name": "stdout",
     "output_type": "stream",
     "text": [
      "  (0, 3152314)\t1\n",
      "  (0, 1594521)\t1\n",
      "  (0, 3491037)\t1\n",
      "  (0, 3419433)\t1\n",
      "  (0, 978757)\t1\n",
      "  (0, 3497556)\t1\n",
      "  (0, 2771580)\t1\n",
      "  (0, 3291234)\t1\n",
      "  (0, 872855)\t1\n",
      "  (0, 2389860)\t1\n",
      "  (0, 2077599)\t1\n",
      "  (0, 3246569)\t1\n",
      "  (0, 2696606)\t1\n",
      "  (0, 872856)\t1\n",
      "  (0, 2923646)\t1\n",
      "  (0, 3438174)\t1\n",
      "  (0, 3593260)\t1\n",
      "  (0, 2663948)\t1\n",
      "  (0, 1478419)\t2\n",
      "  (0, 1624151)\t1\n",
      "  (0, 2285027)\t1\n",
      "  (0, 2517595)\t1\n",
      "  (0, 1429272)\t1\n",
      "  (0, 1621832)\t1\n",
      "  (0, 2036085)\t1\n",
      "  :\t:\n",
      "  (24999, 568863)\t1\n",
      "  (24999, 42127)\t1\n",
      "  (24999, 2296469)\t1\n",
      "  (24999, 1811356)\t1\n",
      "  (24999, 1038078)\t1\n",
      "  (24999, 3561190)\t1\n",
      "  (24999, 1172169)\t1\n",
      "  (24999, 850986)\t1\n",
      "  (24999, 2758597)\t1\n",
      "  (24999, 1620424)\t1\n",
      "  (24999, 1852801)\t1\n",
      "  (24999, 1366217)\t1\n",
      "  (24999, 3029973)\t1\n",
      "  (24999, 2359990)\t1\n",
      "  (24999, 926341)\t1\n",
      "  (24999, 1109568)\t1\n",
      "  (24999, 1334491)\t1\n",
      "  (24999, 2146708)\t1\n",
      "  (24999, 2515136)\t1\n",
      "  (24999, 1402565)\t1\n",
      "  (24999, 313562)\t1\n",
      "  (24999, 1163431)\t1\n",
      "  (24999, 3350257)\t1\n",
      "  (24999, 883326)\t1\n",
      "  (24999, 3389548)\t1\n"
     ]
    }
   ],
   "source": [
    "print(X3)"
   ]
  },
  {
   "cell_type": "code",
   "execution_count": 38,
   "metadata": {},
   "outputs": [
    {
     "name": "stdout",
     "output_type": "stream",
     "text": [
      "['i', 'me', 'my', 'myself', 'we', 'our', 'ours', 'ourselves', 'you', \"you're\", \"you've\", \"you'll\", \"you'd\", 'your', 'yours', 'yourself', 'yourselves', 'he', 'him', 'his', 'himself', 'she', \"she's\", 'her', 'hers', 'herself', 'it', \"it's\", 'its', 'itself', 'they', 'them', 'their', 'theirs', 'themselves', 'what', 'which', 'who', 'whom', 'this', 'that', \"that'll\", 'these', 'those', 'am', 'is', 'are', 'was', 'were', 'be', 'been', 'being', 'have', 'has', 'had', 'having', 'do', 'does', 'did', 'doing', 'a', 'an', 'the', 'and', 'but', 'if', 'or', 'because', 'as', 'until', 'while', 'of', 'at', 'by', 'for', 'with', 'about', 'against', 'between', 'into', 'through', 'during', 'before', 'after', 'above', 'below', 'to', 'from', 'up', 'down', 'in', 'out', 'on', 'off', 'over', 'under', 'again', 'further', 'then', 'once', 'here', 'there', 'when', 'where', 'why', 'how', 'all', 'any', 'both', 'each', 'few', 'more', 'most', 'other', 'some', 'such', 'no', 'nor', 'not', 'only', 'own', 'same', 'so', 'than', 'too', 'very', 's', 't', 'can', 'will', 'just', 'don', \"don't\", 'should', \"should've\", 'now', 'd', 'll', 'm', 'o', 're', 've', 'y', 'ain', 'aren', \"aren't\", 'couldn', \"couldn't\", 'didn', \"didn't\", 'doesn', \"doesn't\", 'hadn', \"hadn't\", 'hasn', \"hasn't\", 'haven', \"haven't\", 'isn', \"isn't\", 'ma', 'mightn', \"mightn't\", 'mustn', \"mustn't\", 'needn', \"needn't\", 'shan', \"shan't\", 'shouldn', \"shouldn't\", 'wasn', \"wasn't\", 'weren', \"weren't\", 'won', \"won't\", 'wouldn', \"wouldn't\"]\n"
     ]
    }
   ],
   "source": [
    "import nltk\n",
    "#nltk.download()\n",
    "from nltk.corpus import stopwords\n",
    "print(stopwords.words('english'))"
   ]
  },
  {
   "cell_type": "code",
   "execution_count": 39,
   "metadata": {},
   "outputs": [],
   "source": [
    "vectorizer4 = CountVectorizer(analyzer='word', ngram_range=(3, 3), stop_words= stopwords.words('english'))    # trigram with stop_words"
   ]
  },
  {
   "cell_type": "code",
   "execution_count": 40,
   "metadata": {},
   "outputs": [],
   "source": [
    "X4 = vectorizer4.fit_transform(corpus)"
   ]
  },
  {
   "cell_type": "code",
   "execution_count": 41,
   "metadata": {},
   "outputs": [
    {
     "name": "stdout",
     "output_type": "stream",
     "text": [
      "['00 01 percent', '00 90 minutes', '00 air horror', '00 alison agrees', '00 back would']\n"
     ]
    }
   ],
   "source": [
    "print(vectorizer4.get_feature_names()[0:5])"
   ]
  },
  {
   "cell_type": "code",
   "execution_count": 42,
   "metadata": {},
   "outputs": [
    {
     "name": "stdout",
     "output_type": "stream",
     "text": [
      "  (0, 783298)\t1\n",
      "  (0, 2322131)\t1\n",
      "  (0, 2540973)\t1\n",
      "  (0, 656689)\t1\n",
      "  (0, 1909309)\t1\n",
      "  (0, 2259740)\t1\n",
      "  (0, 656695)\t1\n",
      "  (0, 2739226)\t1\n",
      "  (0, 2223555)\t1\n",
      "  (0, 2057178)\t1\n",
      "  (0, 1170652)\t1\n",
      "  (0, 1682416)\t1\n",
      "  (0, 1994423)\t1\n",
      "  (0, 979505)\t1\n",
      "  (0, 817916)\t1\n",
      "  (0, 2654367)\t1\n",
      "  (0, 718930)\t1\n",
      "  (0, 2223890)\t1\n",
      "  (0, 2238611)\t1\n",
      "  (0, 1772724)\t1\n",
      "  (0, 2540965)\t1\n",
      "  (0, 606305)\t1\n",
      "  (0, 716720)\t1\n",
      "  (0, 1772933)\t1\n",
      "  (0, 2685441)\t1\n",
      "  :\t:\n",
      "  (24999, 401192)\t1\n",
      "  (24999, 410446)\t1\n",
      "  (24999, 644788)\t1\n",
      "  (24999, 261028)\t1\n",
      "  (24999, 1732311)\t1\n",
      "  (24999, 976881)\t1\n",
      "  (24999, 34527)\t1\n",
      "  (24999, 1796412)\t1\n",
      "  (24999, 1431268)\t1\n",
      "  (24999, 851931)\t1\n",
      "  (24999, 978530)\t1\n",
      "  (24999, 2307378)\t1\n",
      "  (24999, 1486108)\t1\n",
      "  (24999, 1135909)\t1\n",
      "  (24999, 2374112)\t1\n",
      "  (24999, 1874044)\t1\n",
      "  (24999, 718317)\t1\n",
      "  (24999, 1747342)\t1\n",
      "  (24999, 1120049)\t1\n",
      "  (24999, 2054064)\t1\n",
      "  (24999, 876960)\t1\n",
      "  (24999, 2006269)\t1\n",
      "  (24999, 1144315)\t1\n",
      "  (24999, 969589)\t1\n",
      "  (24999, 2600919)\t1\n"
     ]
    }
   ],
   "source": [
    "print(X4)"
   ]
  },
  {
   "cell_type": "code",
   "execution_count": 57,
   "metadata": {},
   "outputs": [
    {
     "name": "stdout",
     "output_type": "stream",
     "text": [
      "  (0, 35204)\t1\n",
      "  (0, 62842)\t1\n",
      "  (0, 65735)\t1\n",
      "  (0, 92231)\t1\n",
      "  (0, 97109)\t1\n",
      "  (0, 99046)\t1\n",
      "  (0, 129025)\t1\n",
      "  (0, 151570)\t1\n",
      "  (0, 199066)\t1\n",
      "  (0, 208608)\t1\n",
      "  (0, 227919)\t1\n",
      "  (0, 273416)\t1\n",
      "  (0, 273419)\t1\n",
      "  (0, 350502)\t1\n",
      "  (0, 360164)\t1\n",
      "  (0, 382313)\t1\n",
      "  (0, 389488)\t1\n",
      "  (0, 402723)\t1\n",
      "  (0, 466257)\t1\n",
      "  (0, 492004)\t1\n",
      "  (0, 502290)\t1\n",
      "  (0, 525878)\t1\n",
      "  (0, 526053)\t1\n",
      "  (0, 532714)\t1\n",
      "  (0, 561635)\t1\n",
      "  :\t:\n",
      "  (24999, 644788)\t1\n",
      "  (24999, 718317)\t1\n",
      "  (24999, 851931)\t1\n",
      "  (24999, 876960)\t1\n",
      "  (24999, 969589)\t1\n",
      "  (24999, 976881)\t1\n",
      "  (24999, 978530)\t1\n",
      "  (24999, 1120049)\t1\n",
      "  (24999, 1135909)\t1\n",
      "  (24999, 1144315)\t1\n",
      "  (24999, 1431268)\t1\n",
      "  (24999, 1486108)\t1\n",
      "  (24999, 1732311)\t1\n",
      "  (24999, 1747342)\t1\n",
      "  (24999, 1763624)\t1\n",
      "  (24999, 1796412)\t1\n",
      "  (24999, 1874044)\t1\n",
      "  (24999, 2006269)\t1\n",
      "  (24999, 2054064)\t1\n",
      "  (24999, 2182999)\t1\n",
      "  (24999, 2307378)\t1\n",
      "  (24999, 2374112)\t1\n",
      "  (24999, 2600919)\t1\n",
      "  (24999, 2670261)\t1\n",
      "  (24999, 2758618)\t1\n"
     ]
    }
   ],
   "source": [
    "print(X4)"
   ]
  },
  {
   "cell_type": "code",
   "execution_count": 45,
   "metadata": {},
   "outputs": [],
   "source": [
    "from sklearn.feature_extraction.text import TfidfVectorizer   # you can do this at the outset -- but needed now..."
   ]
  },
  {
   "cell_type": "code",
   "execution_count": 46,
   "metadata": {},
   "outputs": [],
   "source": [
    "ug_tf_idf = TfidfVectorizer(stop_words=stopwords.words('english'), ngram_range=(3,3))"
   ]
  },
  {
   "cell_type": "code",
   "execution_count": 47,
   "metadata": {},
   "outputs": [],
   "source": [
    "X5 = ug_tf_idf.fit_transform(corpus)"
   ]
  },
  {
   "cell_type": "code",
   "execution_count": 48,
   "metadata": {},
   "outputs": [
    {
     "name": "stdout",
     "output_type": "stream",
     "text": [
      "  (0, 1741940)\t0.08129927087991069\n",
      "  (0, 1958870)\t0.08129927087991069\n",
      "  (0, 2682517)\t0.08129927087991069\n",
      "  (0, 2772095)\t0.08129927087991069\n",
      "  (0, 1002849)\t0.08129927087991069\n",
      "  (0, 35204)\t0.08129927087991069\n",
      "  (0, 895452)\t0.08129927087991069\n",
      "  (0, 2228549)\t0.08129927087991069\n",
      "  (0, 2159505)\t0.08129927087991069\n",
      "  (0, 701418)\t0.08129927087991069\n",
      "  (0, 1776991)\t0.08129927087991069\n",
      "  (0, 1800954)\t0.08129927087991069\n",
      "  (0, 2571860)\t0.08129927087991069\n",
      "  (0, 2229892)\t0.08129927087991069\n",
      "  (0, 1481690)\t0.08129927087991069\n",
      "  (0, 65735)\t0.08129927087991069\n",
      "  (0, 1350596)\t0.08129927087991069\n",
      "  (0, 2176390)\t0.08129927087991069\n",
      "  (0, 917496)\t0.08129927087991069\n",
      "  (0, 502290)\t0.08129927087991069\n",
      "  (0, 62842)\t0.08129927087991069\n",
      "  (0, 1493665)\t0.08129927087991069\n",
      "  (0, 2176083)\t0.08129927087991069\n",
      "  (0, 466257)\t0.08129927087991069\n",
      "  (0, 1741936)\t0.08129927087991069\n",
      "  :\t:\n",
      "  (24999, 1747342)\t0.1775432248546652\n",
      "  (24999, 718317)\t0.1775432248546652\n",
      "  (24999, 1874044)\t0.1775432248546652\n",
      "  (24999, 2374112)\t0.1775432248546652\n",
      "  (24999, 1135909)\t0.1775432248546652\n",
      "  (24999, 1486108)\t0.1775432248546652\n",
      "  (24999, 2307378)\t0.1775432248546652\n",
      "  (24999, 978530)\t0.1775432248546652\n",
      "  (24999, 851931)\t0.1775432248546652\n",
      "  (24999, 1431268)\t0.1775432248546652\n",
      "  (24999, 1796412)\t0.1775432248546652\n",
      "  (24999, 34527)\t0.1775432248546652\n",
      "  (24999, 976881)\t0.1775432248546652\n",
      "  (24999, 1732311)\t0.1775432248546652\n",
      "  (24999, 261028)\t0.1775432248546652\n",
      "  (24999, 644788)\t0.1775432248546652\n",
      "  (24999, 410446)\t0.1775432248546652\n",
      "  (24999, 401192)\t0.1775432248546652\n",
      "  (24999, 64097)\t0.1775432248546652\n",
      "  (24999, 498704)\t0.1775432248546652\n",
      "  (24999, 2758618)\t0.1775432248546652\n",
      "  (24999, 2182999)\t0.1775432248546652\n",
      "  (24999, 1763624)\t0.1775432248546652\n",
      "  (24999, 90309)\t0.17064358256751877\n",
      "  (24999, 2670261)\t0.15884856617135593\n"
     ]
    }
   ],
   "source": [
    "print(X5)"
   ]
  },
  {
   "cell_type": "code",
   "execution_count": 49,
   "metadata": {},
   "outputs": [],
   "source": [
    "# you can also use a TfidfTransform with a unigram or bigram or n-gram in general\n",
    "from sklearn.feature_extraction.text import TfidfTransformer\n",
    "tfidf2 = TfidfTransformer()"
   ]
  },
  {
   "cell_type": "code",
   "execution_count": 50,
   "metadata": {},
   "outputs": [
    {
     "data": {
      "text/plain": [
       "TfidfTransformer(norm='l2', smooth_idf=True, sublinear_tf=False, use_idf=True)"
      ]
     },
     "execution_count": 50,
     "metadata": {},
     "output_type": "execute_result"
    }
   ],
   "source": [
    "# here we use the TfidfTransform on the trigram result from before\n",
    "tfidf2.fit(X4)"
   ]
  },
  {
   "cell_type": "code",
   "execution_count": 51,
   "metadata": {},
   "outputs": [],
   "source": [
    "X6 = tfidf2.transform(X4)"
   ]
  },
  {
   "cell_type": "code",
   "execution_count": 52,
   "metadata": {},
   "outputs": [
    {
     "name": "stdout",
     "output_type": "stream",
     "text": [
      "<25000x2803249 sparse matrix of type '<class 'numpy.float64'>'\n",
      "\twith 2946853 stored elements in Compressed Sparse Row format>\n"
     ]
    }
   ],
   "source": [
    "print(repr(X6))"
   ]
  },
  {
   "cell_type": "code",
   "execution_count": 53,
   "metadata": {},
   "outputs": [
    {
     "name": "stdout",
     "output_type": "stream",
     "text": [
      "  (0, 2772095)\t0.08129927087991069\n",
      "  (0, 2769735)\t0.08129927087991069\n",
      "  (0, 2739226)\t0.08129927087991069\n",
      "  (0, 2708505)\t0.08129927087991069\n",
      "  (0, 2693001)\t0.08129927087991069\n",
      "  (0, 2685441)\t0.08129927087991069\n",
      "  (0, 2682517)\t0.08129927087991069\n",
      "  (0, 2654367)\t0.08129927087991069\n",
      "  (0, 2644842)\t0.08129927087991069\n",
      "  (0, 2632641)\t0.08129927087991069\n",
      "  (0, 2604753)\t0.08129927087991069\n",
      "  (0, 2576342)\t0.08129927087991069\n",
      "  (0, 2571860)\t0.08129927087991069\n",
      "  (0, 2540973)\t0.08129927087991069\n",
      "  (0, 2540965)\t0.08129927087991069\n",
      "  (0, 2465946)\t0.08129927087991069\n",
      "  (0, 2454163)\t0.08129927087991069\n",
      "  (0, 2445037)\t0.08129927087991069\n",
      "  (0, 2444908)\t0.08129927087991069\n",
      "  (0, 2438320)\t0.08129927087991069\n",
      "  (0, 2387847)\t0.08129927087991069\n",
      "  (0, 2384345)\t0.08129927087991069\n",
      "  (0, 2365976)\t0.08129927087991069\n",
      "  (0, 2322131)\t0.08129927087991069\n",
      "  (0, 2303644)\t0.08129927087991069\n",
      "  :\t:\n",
      "  (24999, 2006269)\t0.17754322485466517\n",
      "  (24999, 1874044)\t0.17754322485466517\n",
      "  (24999, 1796412)\t0.17754322485466517\n",
      "  (24999, 1763624)\t0.17754322485466517\n",
      "  (24999, 1747342)\t0.17754322485466517\n",
      "  (24999, 1732311)\t0.17754322485466517\n",
      "  (24999, 1486108)\t0.17754322485466517\n",
      "  (24999, 1431268)\t0.17754322485466517\n",
      "  (24999, 1144315)\t0.17754322485466517\n",
      "  (24999, 1135909)\t0.17754322485466517\n",
      "  (24999, 1120049)\t0.17754322485466517\n",
      "  (24999, 978530)\t0.17754322485466517\n",
      "  (24999, 976881)\t0.17754322485466517\n",
      "  (24999, 969589)\t0.17754322485466517\n",
      "  (24999, 876960)\t0.17754322485466517\n",
      "  (24999, 851931)\t0.17754322485466517\n",
      "  (24999, 718317)\t0.17754322485466517\n",
      "  (24999, 644788)\t0.17754322485466517\n",
      "  (24999, 498704)\t0.17754322485466517\n",
      "  (24999, 410446)\t0.17754322485466517\n",
      "  (24999, 401192)\t0.17754322485466517\n",
      "  (24999, 261028)\t0.17754322485466517\n",
      "  (24999, 90309)\t0.17064358256751874\n",
      "  (24999, 64097)\t0.17754322485466517\n",
      "  (24999, 34527)\t0.17754322485466517\n"
     ]
    }
   ],
   "source": [
    "print(X6)"
   ]
  },
  {
   "cell_type": "code",
   "execution_count": null,
   "metadata": {},
   "outputs": [],
   "source": []
  }
 ],
 "metadata": {
  "kernelspec": {
   "display_name": "Python 3",
   "language": "python",
   "name": "python3"
  },
  "language_info": {
   "codemirror_mode": {
    "name": "ipython",
    "version": 3
   },
   "file_extension": ".py",
   "mimetype": "text/x-python",
   "name": "python",
   "nbconvert_exporter": "python",
   "pygments_lexer": "ipython3",
   "version": "3.7.6"
  }
 },
 "nbformat": 4,
 "nbformat_minor": 4
}
